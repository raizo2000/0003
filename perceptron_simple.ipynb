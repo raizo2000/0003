{
  "nbformat": 4,
  "nbformat_minor": 0,
  "metadata": {
    "colab": {
      "name": "ejercico12.ipynb",
      "provenance": [],
      "authorship_tag": "ABX9TyNeoJUjNGjBaOflsWpH4arB",
      "include_colab_link": true
    },
    "kernelspec": {
      "name": "python3",
      "display_name": "Python 3"
    }
  },
  "cells": [
    {
      "cell_type": "markdown",
      "metadata": {
        "id": "view-in-github",
        "colab_type": "text"
      },
      "source": [
        "<a href=\"https://colab.research.google.com/github/raizo2000/0003/blob/master/perceptron_simple.ipynb\" target=\"_parent\"><img src=\"https://colab.research.google.com/assets/colab-badge.svg\" alt=\"Open In Colab\"/></a>"
      ]
    },
    {
      "cell_type": "code",
      "metadata": {
        "id": "l-A2pP6KPoB5"
      },
      "source": [
        "import random\r\n",
        "import numpy as np"
      ],
      "execution_count": 24,
      "outputs": []
    },
    {
      "cell_type": "markdown",
      "metadata": {
        "id": "GeTHkV9tkBVe"
      },
      "source": [
        "Clase Perceptrón\r\n",
        "\r\n",
        "Aquí creamos una clase para el Perceptrón que podemos utilizar para instaurar cualquier número de instancias de Perceptrón."
      ]
    },
    {
      "cell_type": "code",
      "metadata": {
        "id": "U5yWpbFaW3al"
      },
      "source": [
        "class Perceptron:\r\n",
        "    \r\n",
        "    def __init__(self, num_inputs, act='sigmoid'):\r\n",
        "        self.weights = []\r\n",
        "        self.num_inputs = num_inputs\r\n",
        "        self.act = act # definir la función de activación con sigmoide por defecto\r\n",
        "        for _ in range(0, num_inputs):\r\n",
        "            self.weights.append(random.random() * 2 - 1)\r\n",
        "        print(self.weights)\r\n",
        "            \r\n",
        "    def get_weights(self):\r\n",
        "        return self.weights\r\n",
        "        \r\n",
        "    def feed_forward(self, inputs):\r\n",
        "        self.inputs = inputs\r\n",
        "        sum = 0\r\n",
        "        \r\n",
        "        # multiplicar las entradas por los pesos y sumarlos\r\n",
        "        for i in range(0, self.num_inputs):\r\n",
        "            sum += self.weights[i] * inputs[i]\r\n",
        "            \r\n",
        "        # 'activar' la suma y obtener la derivada\r\n",
        "        self.output, self.output_prime = self.activate(sum)\r\n",
        "        return self.output\r\n",
        "    \r\n",
        "    def activate(self, x):\r\n",
        "        if (self.act == 'sigmoid'):\r\n",
        "            activation = self.sigmoid(x)\r\n",
        "            activation_prime = activation * (1 - activation)\r\n",
        "        else:\r\n",
        "            activation = self.step(x)\r\n",
        "            activation_prime = 1 # utilice 1 ya que la activación de los pasos no es diferenciable\r\n",
        "        return activation, activation_prime\r\n",
        "    \r\n",
        "    def sigmoid(self, x):\r\n",
        "        return 1/(1 + np.exp(-x))\r\n",
        "    \r\n",
        "    def step(self, x):\r\n",
        "        if x > 0:\r\n",
        "            return 1\r\n",
        "        return 0\r\n",
        "    \r\n",
        "    def backward_pass(self, error):\r\n",
        "        learning_rate = 0.01 # hiperparámetro\r\n",
        "        back_error = [] # cada elemento de la lista representa la cantidad de error a enviar hacia atrás a lo largo de esa conexión\r\n",
        "        for i in range(0, self.num_inputs):\r\n",
        "            back_error.append(error * self.output_prime * self.weights[i])\r\n",
        "            self.weights[i] -= error * self.output_prime * self.inputs[i] * learning_rate\r\n",
        "        return back_error"
      ],
      "execution_count": 25,
      "outputs": []
    },
    {
      "cell_type": "markdown",
      "metadata": {
        "id": "Pmhn0J4FkQJE"
      },
      "source": [
        "Perceptrón simple para clasificar un punto por encima o por debajo de una línea\r\n",
        "\r\n",
        "Comienza con una línea que pasa por el origen."
      ]
    },
    {
      "cell_type": "code",
      "metadata": {
        "id": "GJm-cGGEW94n"
      },
      "source": [
        "\r\n",
        "def line(x):\r\n",
        "    return 0.5 * x"
      ],
      "execution_count": 26,
      "outputs": []
    },
    {
      "cell_type": "code",
      "metadata": {
        "colab": {
          "base_uri": "https://localhost:8080/"
        },
        "id": "sPoWrhmfkZ7R",
        "outputId": "b361ecf5-78cb-49a2-bfb6-711dad73bda5"
      },
      "source": [
        "p = Perceptron(2, act='step')\r\n",
        "weights = p.get_weights()\r\n",
        "print(sum(weights))"
      ],
      "execution_count": 27,
      "outputs": [
        {
          "output_type": "stream",
          "text": [
            "[-0.9625337599048984, 0.49159858114183397]\n",
            "-0.47093517876306445\n"
          ],
          "name": "stdout"
        }
      ]
    },
    {
      "cell_type": "code",
      "metadata": {
        "colab": {
          "base_uri": "https://localhost:8080/"
        },
        "id": "aFusb48dkc8r",
        "outputId": "ab30a7e8-ea5e-45c4-e4e0-168c1d43f5b3"
      },
      "source": [
        "\r\n",
        "x_coord = random.random() * 1000\r\n",
        "y_coord = random.random() * 1000\r\n",
        "line_y = line(x_coord)\r\n",
        "\r\n",
        "print(x_coord, y_coord)\r\n",
        "print(x_coord, line_y)\r\n",
        "\r\n",
        "if y_coord > line_y:\r\n",
        "    answer = 1\r\n",
        "else:\r\n",
        "    answer = 0\r\n",
        "    \r\n",
        "print(answer)"
      ],
      "execution_count": 28,
      "outputs": [
        {
          "output_type": "stream",
          "text": [
            "865.3232035156077 475.7632889498449\n",
            "865.3232035156077 432.66160175780385\n",
            "1\n"
          ],
          "name": "stdout"
        }
      ]
    },
    {
      "cell_type": "code",
      "metadata": {
        "colab": {
          "base_uri": "https://localhost:8080/"
        },
        "id": "5xOQeANokib1",
        "outputId": "40befad1-e025-4da6-c259-585dff4e3c93"
      },
      "source": [
        "guess = p.feed_forward([x_coord, y_coord])\r\n",
        "p.backward_pass(guess - answer)\r\n",
        "p.get_weights()"
      ],
      "execution_count": 29,
      "outputs": [
        {
          "output_type": "execute_result",
          "data": {
            "text/plain": [
              "[7.690698275251179, 5.249231470640283]"
            ]
          },
          "metadata": {
            "tags": []
          },
          "execution_count": 29
        }
      ]
    },
    {
      "cell_type": "code",
      "metadata": {
        "colab": {
          "base_uri": "https://localhost:8080/"
        },
        "id": "D3jR7MC_ko_d",
        "outputId": "f3836a64-963b-40fe-a895-5c9242ae3dfe"
      },
      "source": [
        "for _ in range(0, 1000):\r\n",
        "    x_coord = random.random() * 1000\r\n",
        "    y_coord = random.random() * 1000\r\n",
        "    line_y = line(x_coord)\r\n",
        "    \r\n",
        "    if y_coord > line_y:\r\n",
        "        answer = 1\r\n",
        "    else:\r\n",
        "        answer = 0\r\n",
        "    \r\n",
        "    guess = p.feed_forward([x_coord, y_coord])\r\n",
        "    p.backward_pass(guess - answer)\r\n",
        "    \r\n",
        "p.get_weights()"
      ],
      "execution_count": 30,
      "outputs": [
        {
          "output_type": "execute_result",
          "data": {
            "text/plain": [
              "[-19.165902273689323, 41.50300637090956]"
            ]
          },
          "metadata": {
            "tags": []
          },
          "execution_count": 30
        }
      ]
    },
    {
      "cell_type": "code",
      "metadata": {
        "colab": {
          "base_uri": "https://localhost:8080/"
        },
        "id": "SkCPNb1wk2aV",
        "outputId": "816c5054-86b9-43bb-8cee-f381529e2a7e"
      },
      "source": [
        "correct = 0\r\n",
        "\r\n",
        "for _ in range(0,1000):\r\n",
        "    x_coord = random.random() * 1000\r\n",
        "    y_coord = random.random() * 1000\r\n",
        "    line_y = line(x_coord)\r\n",
        "    \r\n",
        "    is_above = y_coord > line_y\r\n",
        "    guess_above = p.feed_forward([x_coord, y_coord, 1])\r\n",
        "    \r\n",
        "    if (is_above == True and guess_above >= 0.5):\r\n",
        "        correct += 1\r\n",
        "    if (is_above == False and guess_above < 0.5):\r\n",
        "        correct += 1\r\n",
        "\r\n",
        "print(correct)"
      ],
      "execution_count": 31,
      "outputs": [
        {
          "output_type": "stream",
          "text": [
            "986\n"
          ],
          "name": "stdout"
        }
      ]
    },
    {
      "cell_type": "markdown",
      "metadata": {
        "id": "kIUYzkxik7zU"
      },
      "source": [
        "Añade un bias al nodo para manejar las líneas que no pasan por el origen."
      ]
    },
    {
      "cell_type": "code",
      "metadata": {
        "id": "KLPlVGHJk6Mw"
      },
      "source": [
        "def line(x):\r\n",
        "    return 0.5 * x + 500"
      ],
      "execution_count": 32,
      "outputs": []
    },
    {
      "cell_type": "code",
      "metadata": {
        "colab": {
          "base_uri": "https://localhost:8080/"
        },
        "id": "l8CC0fjtlHTk",
        "outputId": "2f58e7cb-c8e4-4dd5-c1a9-48de5a62adeb"
      },
      "source": [
        "p = Perceptron(3, act='step')\r\n",
        "weights = p.get_weights()"
      ],
      "execution_count": 33,
      "outputs": [
        {
          "output_type": "stream",
          "text": [
            "[0.07171145359447206, -0.7857625017219512, 0.31298329698722416]\n"
          ],
          "name": "stdout"
        }
      ]
    },
    {
      "cell_type": "code",
      "metadata": {
        "colab": {
          "base_uri": "https://localhost:8080/"
        },
        "id": "88em_YBRlLQu",
        "outputId": "8e34c960-47da-4c51-f874-5a769756d284"
      },
      "source": [
        "for _ in range(0, 100000):\r\n",
        "    x_coord = random.random() * 1000\r\n",
        "    y_coord = random.random() * 1000\r\n",
        "    line_y = line(x_coord)\r\n",
        "    \r\n",
        "    if y_coord > line_y:\r\n",
        "        answer = 1\r\n",
        "    else:\r\n",
        "        answer = 0\r\n",
        "    \r\n",
        "    guess = p.feed_forward([x_coord, y_coord, 1])\r\n",
        "    p.backward_pass(guess - answer)\r\n",
        "    \r\n",
        "p.get_weights()"
      ],
      "execution_count": 34,
      "outputs": [
        {
          "output_type": "execute_result",
          "data": {
            "text/plain": [
              "[-14.109206217248497, 8.830695422930614, -65.66701670300947]"
            ]
          },
          "metadata": {
            "tags": []
          },
          "execution_count": 34
        }
      ]
    },
    {
      "cell_type": "code",
      "metadata": {
        "colab": {
          "base_uri": "https://localhost:8080/"
        },
        "id": "Uc9AsclJlO4U",
        "outputId": "0bd78738-9219-417d-ae88-37d94e6728b1"
      },
      "source": [
        "correct = 0\r\n",
        "\r\n",
        "for _ in range(0,1000):\r\n",
        "    x_coord = random.random() * 1000\r\n",
        "    y_coord = random.random() * 1000\r\n",
        "    line_y = line(x_coord)\r\n",
        "    \r\n",
        "    above = y_coord > line_y\r\n",
        "    guess_above = p.feed_forward([x_coord, y_coord, 1])\r\n",
        "    \r\n",
        "    if (above == True and guess_above >= 0.5):\r\n",
        "        correct += 1\r\n",
        "    if (above == False and guess_above < 0.5):\r\n",
        "        correct += 1\r\n",
        "\r\n",
        "print(correct)"
      ],
      "execution_count": 35,
      "outputs": [
        {
          "output_type": "stream",
          "text": [
            "848\n"
          ],
          "name": "stdout"
        }
      ]
    },
    {
      "cell_type": "markdown",
      "metadata": {
        "id": "FdyoLkTXlcD9"
      },
      "source": [
        "Network with 3 Perceptrons"
      ]
    },
    {
      "cell_type": "code",
      "metadata": {
        "colab": {
          "base_uri": "https://localhost:8080/"
        },
        "id": "YQblCdAVlTbO",
        "outputId": "ea0527c9-cf21-42ab-de47-3760ad74aa91"
      },
      "source": [
        "a = Perceptron(3, act='step')\r\n",
        "b = Perceptron(3, act='step')\r\n",
        "c = Perceptron(3, act='step')"
      ],
      "execution_count": 36,
      "outputs": [
        {
          "output_type": "stream",
          "text": [
            "[-0.11527198509966996, 0.5510827367172897, 0.8142687038553427]\n",
            "[-0.8181114163476555, 0.33173025869089545, -0.9557313608084479]\n",
            "[-0.4558752343638608, -0.21976257892208007, -0.2516299029690561]\n"
          ],
          "name": "stdout"
        }
      ]
    },
    {
      "cell_type": "code",
      "metadata": {
        "id": "tHk0a-_PlhEu"
      },
      "source": [
        "def network(first, second):\r\n",
        "    a_out = a.feed_forward([first, second, 1])\r\n",
        "    b_out = b.feed_forward([first, second, 1])\r\n",
        "    c_out = c.feed_forward([a_out, b_out, 1])\r\n",
        "    return c_out"
      ],
      "execution_count": 37,
      "outputs": []
    },
    {
      "cell_type": "code",
      "metadata": {
        "colab": {
          "base_uri": "https://localhost:8080/"
        },
        "id": "XI_dS6NRll1C",
        "outputId": "d21b4058-94ac-4842-b816-d561e88ddd42"
      },
      "source": [
        "for _ in range(0,1000000):\r\n",
        "    first = random.choice([0, 1])\r\n",
        "    second = random.choice([0, 1])\r\n",
        "    c_out = network(first, second)\r\n",
        "#     a_out = a.feed_forward([first, second, 1])\r\n",
        "#     b_out = b.feed_forward([first, second, 1])\r\n",
        "#     c_out = c.feed_forward([a_out, b_out, 1])\r\n",
        "    \r\n",
        "    if (first != second):\r\n",
        "        answer = 1\r\n",
        "    else:\r\n",
        "        answer = 0\r\n",
        "        \r\n",
        "    back_error = c.backward_pass(c_out - answer)\r\n",
        "    a.backward_pass(back_error[0])\r\n",
        "    b.backward_pass(back_error[1])\r\n",
        "    \r\n",
        "print(a.get_weights())\r\n",
        "print(b.get_weights())\r\n",
        "print(c.get_weights())"
      ],
      "execution_count": 38,
      "outputs": [
        {
          "output_type": "stream",
          "text": [
            "[-0.1935368734456375, -0.03652452423155856, 0.03624114292078636]\n",
            "[0.45870916718962323, 0.5558880891914151, -1.0128696313281889]\n",
            "[-0.01587523436386052, -0.21976257892208007, 0.008370097030944006]\n"
          ],
          "name": "stdout"
        }
      ]
    },
    {
      "cell_type": "code",
      "metadata": {
        "colab": {
          "base_uri": "https://localhost:8080/"
        },
        "id": "CDdfq5qHlv9D",
        "outputId": "8e941756-29e1-4b2c-e6aa-3f97bd912f2e"
      },
      "source": [
        "\r\n",
        "print(network(1, 1))\r\n",
        "print(network(1, 0))\r\n",
        "print(network(0, 1))\r\n",
        "print(network(0, 0))"
      ],
      "execution_count": 39,
      "outputs": [
        {
          "output_type": "stream",
          "text": [
            "0\n",
            "1\n",
            "1\n",
            "0\n"
          ],
          "name": "stdout"
        }
      ]
    },
    {
      "cell_type": "code",
      "metadata": {
        "colab": {
          "base_uri": "https://localhost:8080/"
        },
        "id": "qgtLwI4HmDgC",
        "outputId": "01441529-68c5-4476-f4d1-33b74de06d1e"
      },
      "source": [
        "\r\n",
        "print('%f' % a.feed_forward([1, 1, 1]))\r\n",
        "print('%f' % a.feed_forward([1, 0, 1]))\r\n",
        "print('%f' % a.feed_forward([0, 1, 1]))\r\n",
        "print('%f' % a.feed_forward([0, 0, 1]))\r\n",
        "print(\"\\n\")\r\n",
        "print('%f' % b.feed_forward([1, 1, 1]))\r\n",
        "print('%f' % b.feed_forward([1, 0, 1]))\r\n",
        "print('%f' % b.feed_forward([0, 1, 1]))\r\n",
        "print('%f' % b.feed_forward([0, 0, 1]))\r\n",
        "print(\"\\n\")\r\n",
        "print('%f' % c.feed_forward([1, 1, 1]))\r\n",
        "print('%f' % c.feed_forward([1, 0, 1]))\r\n",
        "print('%f' % c.feed_forward([0, 1, 1]))\r\n",
        "print('%f' % c.feed_forward([0, 0, 1]))"
      ],
      "execution_count": 40,
      "outputs": [
        {
          "output_type": "stream",
          "text": [
            "0.000000\n",
            "0.000000\n",
            "0.000000\n",
            "1.000000\n",
            "\n",
            "\n",
            "1.000000\n",
            "0.000000\n",
            "0.000000\n",
            "0.000000\n",
            "\n",
            "\n",
            "0.000000\n",
            "0.000000\n",
            "0.000000\n",
            "1.000000\n"
          ],
          "name": "stdout"
        }
      ]
    }
  ]
}